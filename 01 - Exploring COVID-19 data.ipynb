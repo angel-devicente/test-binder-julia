{
 "cells": [
  {
   "cell_type": "markdown",
   "metadata": {},
   "source": [
    "# Exploring data on COVID-19"
   ]
  },
  {
   "cell_type": "code",
   "execution_count": null,
   "metadata": {},
   "outputs": [],
   "source": [
    "using CSV \n",
    "using DataFrames\n",
    "using Plots\n",
    "using Dates\n",
    "\n",
    "#using Interact\n",
    "#using WebIO"
   ]
  },
  {
   "cell_type": "markdown",
   "metadata": {},
   "source": [
    "## Grab the data"
   ]
  },
  {
   "cell_type": "code",
   "execution_count": null,
   "metadata": {},
   "outputs": [],
   "source": [
    "url = \"https://raw.githubusercontent.com/CSSEGISandData/COVID-19/master/csse_covid_19_data/csse_covid_19_time_series/time_series_covid19_confirmed_global.csv\"\n",
    "download(url, \"covid_data.csv\")\n",
    "data = CSV.read(\"covid_data.csv\")\n",
    "rename!(data, 1 => \"province\", 2 => \"country\") # ! is convention: function *modifies* its argument in place\n",
    "countries = collect(data[:, 2])\n",
    "unique_countries = unique(countries);"
   ]
  },
  {
   "cell_type": "markdown",
   "metadata": {},
   "source": [
    "## Extract data and plot"
   ]
  },
  {
   "cell_type": "code",
   "execution_count": null,
   "metadata": {},
   "outputs": [],
   "source": [
    "US_row = findfirst(countries .== \"US\")\n",
    "US_data_row = data[US_row, :]\n",
    "US_data = convert(Vector, US_data_row[5:end]);\n",
    "\n",
    "date_strings = String.(names(data))[5:end];  # apply String function to each element\n",
    "format = Dates.DateFormat(\"m/d/Y\")\n",
    "dates = parse.(Date, date_strings, format) .+ Year(2000);"
   ]
  },
  {
   "cell_type": "code",
   "execution_count": null,
   "metadata": {},
   "outputs": [],
   "source": [
    "plot(dates, US_data, xticks=dates[1:5:end], xrotation=45, leg=:topleft, \n",
    "    label=\"US data\", m=:o)\n",
    "\n",
    "xlabel!(\"date\")\n",
    "ylabel!(\"confirmed cases in US\")\n",
    "title!(\"US confirmed COVID-19 cases\")\n",
    "\n",
    "# annotate!(20, US_data[end], text(\"US\", :blue, :left))"
   ]
  },
  {
   "cell_type": "code",
   "execution_count": null,
   "metadata": {},
   "outputs": [],
   "source": [
    "plot(dates, US_data, xticks=dates[1:5:end], xrotation=45, leg=:topleft, \n",
    "    label=\"US data\", m=:o,\n",
    "    yscale=:log10)\n",
    "\n",
    "xlabel!(\"date\")\n",
    "ylabel!(\"confirmed cases in US\")\n",
    "title!(\"US confirmed COVID-19 cases\")\n",
    "#annotate!(20, US_data[end], text(\"US\", :blue, :left))"
   ]
  }
 ],
 "metadata": {
  "@webio": {
   "lastCommId": null,
   "lastKernelId": null
  },
  "kernelspec": {
   "display_name": "Julia 1.4.0",
   "language": "julia",
   "name": "julia-1.4"
  },
  "language_info": {
   "file_extension": ".jl",
   "mimetype": "application/julia",
   "name": "julia",
   "version": "1.4.0"
  }
 },
 "nbformat": 4,
 "nbformat_minor": 4
}
